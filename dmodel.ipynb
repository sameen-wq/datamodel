{
 "cells": [
  {
   "cell_type": "code",
   "execution_count": 229,
   "id": "f676b26a-3bfa-4144-bf64-be859d40bfd3",
   "metadata": {
    "jupyter": {
     "source_hidden": true
    }
   },
   "outputs": [],
   "source": [
    "import psycopg2\n",
    "import pandas as pd\n"
   ]
  },
  {
   "cell_type": "code",
   "execution_count": 230,
   "id": "714a2265-2cef-45d0-8b3a-0e9b0b39c6c2",
   "metadata": {},
   "outputs": [],
   "source": [
    "def create_database():\n",
    "    conn=psycopg2.connect(\"host=localhost dbname=postgres user=postgres password=Sameen@2000\")\n",
    "    conn.set_session(autocommit=True)\n",
    "    cur=conn.cursor()\n",
    "\n",
    "    cur.execute(\"\"\"\n",
    "        SELECT pg_terminate_backend(pg_stat_activity.pid)\n",
    "        FROM pg_stat_activity\n",
    "        WHERE pg_stat_activity.datname = 'account'\n",
    "        AND pid <> pg_backend_pid();\n",
    "    \"\"\")\n",
    "\n",
    "    cur.execute(\"drop database if exists account\")\n",
    "    cur.execute(\"create database account\")\n",
    "\n",
    "    conn.close()\n",
    "    conn=psycopg2.connect(\"host=localhost dbname=account user=postgres password=Sameen@2000\")\n",
    "    cur=conn.cursor()\n",
    "    return cur, conn\n",
    "\n",
    "\n",
    "\n"
   ]
  },
  {
   "cell_type": "code",
   "execution_count": 231,
   "id": "cad43fd1-e0b0-4249-b615-45ddd88eb83c",
   "metadata": {},
   "outputs": [],
   "source": [
    "def drop_tables(cur, conn):\n",
    "    for query in drop_table_queries:\n",
    "        cur.execute(query)\n",
    "        conn.commit()"
   ]
  },
  {
   "cell_type": "code",
   "execution_count": 232,
   "id": "f3dcb695-3144-4337-a2aa-de65c101016b",
   "metadata": {},
   "outputs": [],
   "source": [
    "def create_tables(cur,conn):\n",
    "    for query in create_table_queries:\n",
    "        cur.execute(query)\n",
    "        conn.commit()"
   ]
  },
  {
   "cell_type": "code",
   "execution_count": 233,
   "id": "60ceb217-1002-453b-b151-042de3df4388",
   "metadata": {},
   "outputs": [],
   "source": [
    "accountcountry=pd.read_excel('country.xlsx')"
   ]
  },
  {
   "cell_type": "code",
   "execution_count": 234,
   "id": "9a0fb54d-aaf4-4a3e-ab49-809e880a6932",
   "metadata": {},
   "outputs": [
    {
     "data": {
      "text/html": [
       "<div>\n",
       "<style scoped>\n",
       "    .dataframe tbody tr th:only-of-type {\n",
       "        vertical-align: middle;\n",
       "    }\n",
       "\n",
       "    .dataframe tbody tr th {\n",
       "        vertical-align: top;\n",
       "    }\n",
       "\n",
       "    .dataframe thead th {\n",
       "        text-align: right;\n",
       "    }\n",
       "</style>\n",
       "<table border=\"1\" class=\"dataframe\">\n",
       "  <thead>\n",
       "    <tr style=\"text-align: right;\">\n",
       "      <th></th>\n",
       "      <th>country_name</th>\n",
       "      <th>continent</th>\n",
       "      <th>disease</th>\n",
       "      <th>population</th>\n",
       "      <th>literacy_r</th>\n",
       "      <th>life_exp</th>\n",
       "      <th>area</th>\n",
       "    </tr>\n",
       "  </thead>\n",
       "  <tbody>\n",
       "    <tr>\n",
       "      <th>0</th>\n",
       "      <td>Nepal</td>\n",
       "      <td>Asia</td>\n",
       "      <td>covid</td>\n",
       "      <td>2500000</td>\n",
       "      <td>0.45</td>\n",
       "      <td>55</td>\n",
       "      <td>1412566</td>\n",
       "    </tr>\n",
       "    <tr>\n",
       "      <th>1</th>\n",
       "      <td>India</td>\n",
       "      <td>Asia</td>\n",
       "      <td>covid</td>\n",
       "      <td>5000000</td>\n",
       "      <td>0.55</td>\n",
       "      <td>55</td>\n",
       "      <td>45,65,0000</td>\n",
       "    </tr>\n",
       "    <tr>\n",
       "      <th>2</th>\n",
       "      <td>UK</td>\n",
       "      <td>Europe</td>\n",
       "      <td>covid</td>\n",
       "      <td>3000000</td>\n",
       "      <td>0.50</td>\n",
       "      <td>70</td>\n",
       "      <td>6,00,000</td>\n",
       "    </tr>\n",
       "    <tr>\n",
       "      <th>3</th>\n",
       "      <td>Canada</td>\n",
       "      <td>North America</td>\n",
       "      <td>covid</td>\n",
       "      <td>4000000</td>\n",
       "      <td>0.60</td>\n",
       "      <td>70</td>\n",
       "      <td>56,78.890</td>\n",
       "    </tr>\n",
       "    <tr>\n",
       "      <th>4</th>\n",
       "      <td>Australia</td>\n",
       "      <td>Oceania</td>\n",
       "      <td>covid</td>\n",
       "      <td>350000</td>\n",
       "      <td>0.60</td>\n",
       "      <td>80</td>\n",
       "      <td>10,00,3452</td>\n",
       "    </tr>\n",
       "  </tbody>\n",
       "</table>\n",
       "</div>"
      ],
      "text/plain": [
       "  country_name      continent disease  population  literacy_r  life_exp  \\\n",
       "0        Nepal           Asia   covid     2500000        0.45        55   \n",
       "1        India           Asia   covid     5000000        0.55        55   \n",
       "2           UK         Europe   covid     3000000        0.50        70   \n",
       "3       Canada  North America   covid     4000000        0.60        70   \n",
       "4    Australia        Oceania   covid      350000        0.60        80   \n",
       "\n",
       "         area  \n",
       "0     1412566  \n",
       "1  45,65,0000  \n",
       "2    6,00,000  \n",
       "3   56,78.890  \n",
       "4  10,00,3452  "
      ]
     },
     "execution_count": 234,
     "metadata": {},
     "output_type": "execute_result"
    }
   ],
   "source": [
    "accountcountry.head()"
   ]
  },
  {
   "cell_type": "code",
   "execution_count": 235,
   "id": "ae0af914-0aa8-4d76-9395-3d404e17473c",
   "metadata": {},
   "outputs": [],
   "source": [
    "accountcountry_clean=accountcountry[['country_name', 'disease', 'population', 'literacy_r', 'life_exp']]"
   ]
  },
  {
   "cell_type": "code",
   "execution_count": 236,
   "id": "13df5006-661b-4888-af1d-5cad0330ddf5",
   "metadata": {},
   "outputs": [
    {
     "data": {
      "text/html": [
       "<div>\n",
       "<style scoped>\n",
       "    .dataframe tbody tr th:only-of-type {\n",
       "        vertical-align: middle;\n",
       "    }\n",
       "\n",
       "    .dataframe tbody tr th {\n",
       "        vertical-align: top;\n",
       "    }\n",
       "\n",
       "    .dataframe thead th {\n",
       "        text-align: right;\n",
       "    }\n",
       "</style>\n",
       "<table border=\"1\" class=\"dataframe\">\n",
       "  <thead>\n",
       "    <tr style=\"text-align: right;\">\n",
       "      <th></th>\n",
       "      <th>country_name</th>\n",
       "      <th>disease</th>\n",
       "      <th>population</th>\n",
       "      <th>literacy_r</th>\n",
       "      <th>life_exp</th>\n",
       "    </tr>\n",
       "  </thead>\n",
       "  <tbody>\n",
       "    <tr>\n",
       "      <th>0</th>\n",
       "      <td>Nepal</td>\n",
       "      <td>covid</td>\n",
       "      <td>2500000</td>\n",
       "      <td>0.45</td>\n",
       "      <td>55</td>\n",
       "    </tr>\n",
       "    <tr>\n",
       "      <th>1</th>\n",
       "      <td>India</td>\n",
       "      <td>covid</td>\n",
       "      <td>5000000</td>\n",
       "      <td>0.55</td>\n",
       "      <td>55</td>\n",
       "    </tr>\n",
       "    <tr>\n",
       "      <th>2</th>\n",
       "      <td>UK</td>\n",
       "      <td>covid</td>\n",
       "      <td>3000000</td>\n",
       "      <td>0.50</td>\n",
       "      <td>70</td>\n",
       "    </tr>\n",
       "    <tr>\n",
       "      <th>3</th>\n",
       "      <td>Canada</td>\n",
       "      <td>covid</td>\n",
       "      <td>4000000</td>\n",
       "      <td>0.60</td>\n",
       "      <td>70</td>\n",
       "    </tr>\n",
       "    <tr>\n",
       "      <th>4</th>\n",
       "      <td>Australia</td>\n",
       "      <td>covid</td>\n",
       "      <td>350000</td>\n",
       "      <td>0.60</td>\n",
       "      <td>80</td>\n",
       "    </tr>\n",
       "  </tbody>\n",
       "</table>\n",
       "</div>"
      ],
      "text/plain": [
       "  country_name disease  population  literacy_r  life_exp\n",
       "0        Nepal   covid     2500000        0.45        55\n",
       "1        India   covid     5000000        0.55        55\n",
       "2           UK   covid     3000000        0.50        70\n",
       "3       Canada   covid     4000000        0.60        70\n",
       "4    Australia   covid      350000        0.60        80"
      ]
     },
     "execution_count": 236,
     "metadata": {},
     "output_type": "execute_result"
    }
   ],
   "source": [
    "accountcountry_clean.head()"
   ]
  },
  {
   "cell_type": "code",
   "execution_count": 237,
   "id": "c823617f-fce9-42f6-8cbe-2c19049d9a6e",
   "metadata": {},
   "outputs": [],
   "source": [
    "accountcovid=pd.read_excel('covid.xlsx')"
   ]
  },
  {
   "cell_type": "code",
   "execution_count": 238,
   "id": "b7abe8d0-27a6-43a4-807a-ec71e9efddd6",
   "metadata": {},
   "outputs": [
    {
     "data": {
      "text/plain": [
       "Index(['country_name', 'p_ID', 'hospital', 'duration', 'age', 'death',\n",
       "       'vaccine', 'amount$'],\n",
       "      dtype='object')"
      ]
     },
     "execution_count": 238,
     "metadata": {},
     "output_type": "execute_result"
    }
   ],
   "source": [
    "accountcovid.columns"
   ]
  },
  {
   "cell_type": "code",
   "execution_count": 239,
   "id": "1639917f-6702-4096-b978-b3112c02ffa4",
   "metadata": {},
   "outputs": [],
   "source": [
    "accountcovid=accountcovid.drop(['amount$', 'death'], axis=1)"
   ]
  },
  {
   "cell_type": "code",
   "execution_count": 240,
   "id": "8aec3010-ab34-4f30-8f86-e4dd057dba06",
   "metadata": {},
   "outputs": [
    {
     "data": {
      "text/html": [
       "<div>\n",
       "<style scoped>\n",
       "    .dataframe tbody tr th:only-of-type {\n",
       "        vertical-align: middle;\n",
       "    }\n",
       "\n",
       "    .dataframe tbody tr th {\n",
       "        vertical-align: top;\n",
       "    }\n",
       "\n",
       "    .dataframe thead th {\n",
       "        text-align: right;\n",
       "    }\n",
       "</style>\n",
       "<table border=\"1\" class=\"dataframe\">\n",
       "  <thead>\n",
       "    <tr style=\"text-align: right;\">\n",
       "      <th></th>\n",
       "      <th>country_name</th>\n",
       "      <th>p_ID</th>\n",
       "      <th>hospital</th>\n",
       "      <th>duration</th>\n",
       "      <th>age</th>\n",
       "      <th>vaccine</th>\n",
       "    </tr>\n",
       "  </thead>\n",
       "  <tbody>\n",
       "    <tr>\n",
       "      <th>0</th>\n",
       "      <td>Nepal</td>\n",
       "      <td>111</td>\n",
       "      <td>Grand</td>\n",
       "      <td>10</td>\n",
       "      <td>20</td>\n",
       "      <td>moderna</td>\n",
       "    </tr>\n",
       "    <tr>\n",
       "      <th>1</th>\n",
       "      <td>India</td>\n",
       "      <td>112</td>\n",
       "      <td>merry</td>\n",
       "      <td>11</td>\n",
       "      <td>24</td>\n",
       "      <td>jansen</td>\n",
       "    </tr>\n",
       "    <tr>\n",
       "      <th>2</th>\n",
       "      <td>UK</td>\n",
       "      <td>113</td>\n",
       "      <td>santa</td>\n",
       "      <td>12</td>\n",
       "      <td>55</td>\n",
       "      <td>jansen</td>\n",
       "    </tr>\n",
       "    <tr>\n",
       "      <th>3</th>\n",
       "      <td>Canada</td>\n",
       "      <td>114</td>\n",
       "      <td>curryili</td>\n",
       "      <td>11</td>\n",
       "      <td>40</td>\n",
       "      <td>moderna</td>\n",
       "    </tr>\n",
       "    <tr>\n",
       "      <th>4</th>\n",
       "      <td>Australia</td>\n",
       "      <td>115</td>\n",
       "      <td>mercury</td>\n",
       "      <td>12</td>\n",
       "      <td>32</td>\n",
       "      <td>moderna</td>\n",
       "    </tr>\n",
       "  </tbody>\n",
       "</table>\n",
       "</div>"
      ],
      "text/plain": [
       "  country_name  p_ID  hospital  duration  age  vaccine\n",
       "0        Nepal   111     Grand        10   20  moderna\n",
       "1        India   112     merry        11   24   jansen\n",
       "2           UK   113     santa        12   55   jansen\n",
       "3       Canada   114  curryili        11   40  moderna\n",
       "4    Australia   115   mercury        12   32  moderna"
      ]
     },
     "execution_count": 240,
     "metadata": {},
     "output_type": "execute_result"
    }
   ],
   "source": [
    "accountcovid.head()"
   ]
  },
  {
   "cell_type": "code",
   "execution_count": 241,
   "id": "ff4105ea-abe9-4671-89dd-26f14bf1d2a3",
   "metadata": {},
   "outputs": [],
   "source": [
    "accountpatient=pd.read_excel('patient.xlsx')"
   ]
  },
  {
   "cell_type": "code",
   "execution_count": 242,
   "id": "f172d408-febf-4a2e-83ef-7c3458f4863e",
   "metadata": {},
   "outputs": [
    {
     "data": {
      "text/html": [
       "<div>\n",
       "<style scoped>\n",
       "    .dataframe tbody tr th:only-of-type {\n",
       "        vertical-align: middle;\n",
       "    }\n",
       "\n",
       "    .dataframe tbody tr th {\n",
       "        vertical-align: top;\n",
       "    }\n",
       "\n",
       "    .dataframe thead th {\n",
       "        text-align: right;\n",
       "    }\n",
       "</style>\n",
       "<table border=\"1\" class=\"dataframe\">\n",
       "  <thead>\n",
       "    <tr style=\"text-align: right;\">\n",
       "      <th></th>\n",
       "      <th>patient_name</th>\n",
       "      <th>p_id</th>\n",
       "      <th>occupation</th>\n",
       "      <th>married</th>\n",
       "      <th>adress</th>\n",
       "      <th>country</th>\n",
       "      <th>height</th>\n",
       "      <th>weight</th>\n",
       "    </tr>\n",
       "  </thead>\n",
       "  <tbody>\n",
       "    <tr>\n",
       "      <th>0</th>\n",
       "      <td>abascus</td>\n",
       "      <td>111</td>\n",
       "      <td>student</td>\n",
       "      <td>no</td>\n",
       "      <td>ab</td>\n",
       "      <td>nepal</td>\n",
       "      <td>6'</td>\n",
       "      <td>45</td>\n",
       "    </tr>\n",
       "    <tr>\n",
       "      <th>1</th>\n",
       "      <td>hibris</td>\n",
       "      <td>112</td>\n",
       "      <td>coder</td>\n",
       "      <td>no</td>\n",
       "      <td>cd</td>\n",
       "      <td>india</td>\n",
       "      <td>7'</td>\n",
       "      <td>45</td>\n",
       "    </tr>\n",
       "    <tr>\n",
       "      <th>2</th>\n",
       "      <td>corny</td>\n",
       "      <td>113</td>\n",
       "      <td>student</td>\n",
       "      <td>yes</td>\n",
       "      <td>ef</td>\n",
       "      <td>Uk</td>\n",
       "      <td>67'</td>\n",
       "      <td>56</td>\n",
       "    </tr>\n",
       "    <tr>\n",
       "      <th>3</th>\n",
       "      <td>lily</td>\n",
       "      <td>114</td>\n",
       "      <td>doctor</td>\n",
       "      <td>yes</td>\n",
       "      <td>gh</td>\n",
       "      <td>Canada</td>\n",
       "      <td>56'</td>\n",
       "      <td>67</td>\n",
       "    </tr>\n",
       "    <tr>\n",
       "      <th>4</th>\n",
       "      <td>haxe</td>\n",
       "      <td>115</td>\n",
       "      <td>enginer</td>\n",
       "      <td>yes</td>\n",
       "      <td>ij</td>\n",
       "      <td>Australia</td>\n",
       "      <td>45'</td>\n",
       "      <td>78</td>\n",
       "    </tr>\n",
       "  </tbody>\n",
       "</table>\n",
       "</div>"
      ],
      "text/plain": [
       "  patient_name  p_id occupation married adress    country height  weight\n",
       "0      abascus   111    student      no     ab      nepal     6'      45\n",
       "1       hibris   112      coder      no     cd      india     7'      45\n",
       "2        corny   113    student     yes     ef         Uk    67'      56\n",
       "3         lily   114     doctor     yes     gh     Canada    56'      67\n",
       "4         haxe   115    enginer     yes     ij  Australia    45'      78"
      ]
     },
     "execution_count": 242,
     "metadata": {},
     "output_type": "execute_result"
    }
   ],
   "source": [
    "accountpatient.head()"
   ]
  },
  {
   "cell_type": "code",
   "execution_count": 243,
   "id": "15cc38b8-0025-42ed-9f23-a5b041271448",
   "metadata": {},
   "outputs": [],
   "source": [
    "accountpatient=accountpatient.drop(['adress', 'height'], axis=1)"
   ]
  },
  {
   "cell_type": "code",
   "execution_count": 244,
   "id": "1b9f8190-8751-47c9-b6dc-369e77696dbf",
   "metadata": {},
   "outputs": [
    {
     "data": {
      "text/html": [
       "<div>\n",
       "<style scoped>\n",
       "    .dataframe tbody tr th:only-of-type {\n",
       "        vertical-align: middle;\n",
       "    }\n",
       "\n",
       "    .dataframe tbody tr th {\n",
       "        vertical-align: top;\n",
       "    }\n",
       "\n",
       "    .dataframe thead th {\n",
       "        text-align: right;\n",
       "    }\n",
       "</style>\n",
       "<table border=\"1\" class=\"dataframe\">\n",
       "  <thead>\n",
       "    <tr style=\"text-align: right;\">\n",
       "      <th></th>\n",
       "      <th>patient_name</th>\n",
       "      <th>p_id</th>\n",
       "      <th>occupation</th>\n",
       "      <th>married</th>\n",
       "      <th>country</th>\n",
       "      <th>weight</th>\n",
       "    </tr>\n",
       "  </thead>\n",
       "  <tbody>\n",
       "    <tr>\n",
       "      <th>0</th>\n",
       "      <td>abascus</td>\n",
       "      <td>111</td>\n",
       "      <td>student</td>\n",
       "      <td>no</td>\n",
       "      <td>nepal</td>\n",
       "      <td>45</td>\n",
       "    </tr>\n",
       "    <tr>\n",
       "      <th>1</th>\n",
       "      <td>hibris</td>\n",
       "      <td>112</td>\n",
       "      <td>coder</td>\n",
       "      <td>no</td>\n",
       "      <td>india</td>\n",
       "      <td>45</td>\n",
       "    </tr>\n",
       "    <tr>\n",
       "      <th>2</th>\n",
       "      <td>corny</td>\n",
       "      <td>113</td>\n",
       "      <td>student</td>\n",
       "      <td>yes</td>\n",
       "      <td>Uk</td>\n",
       "      <td>56</td>\n",
       "    </tr>\n",
       "    <tr>\n",
       "      <th>3</th>\n",
       "      <td>lily</td>\n",
       "      <td>114</td>\n",
       "      <td>doctor</td>\n",
       "      <td>yes</td>\n",
       "      <td>Canada</td>\n",
       "      <td>67</td>\n",
       "    </tr>\n",
       "    <tr>\n",
       "      <th>4</th>\n",
       "      <td>haxe</td>\n",
       "      <td>115</td>\n",
       "      <td>enginer</td>\n",
       "      <td>yes</td>\n",
       "      <td>Australia</td>\n",
       "      <td>78</td>\n",
       "    </tr>\n",
       "  </tbody>\n",
       "</table>\n",
       "</div>"
      ],
      "text/plain": [
       "  patient_name  p_id occupation married    country  weight\n",
       "0      abascus   111    student      no      nepal      45\n",
       "1       hibris   112      coder      no      india      45\n",
       "2        corny   113    student     yes         Uk      56\n",
       "3         lily   114     doctor     yes     Canada      67\n",
       "4         haxe   115    enginer     yes  Australia      78"
      ]
     },
     "execution_count": 244,
     "metadata": {},
     "output_type": "execute_result"
    }
   ],
   "source": [
    "accountpatient.head()"
   ]
  },
  {
   "cell_type": "code",
   "execution_count": 245,
   "id": "da174ced-90bc-4d3a-8237-88502910234e",
   "metadata": {},
   "outputs": [],
   "source": [
    "cur, conn = create_database()"
   ]
  },
  {
   "cell_type": "code",
   "execution_count": 246,
   "id": "eaec7dad-4304-4d1b-af63-fb5833a086da",
   "metadata": {},
   "outputs": [],
   "source": [
    "country_create_table=(\"\"\"CREATE TABLE IF NOT EXISTS accountcountry(\n",
    "country_name VARCHAR PRIMARY KEY,\n",
    "disease VARCHAR,\n",
    "population BIGINT,\n",
    "literacy_r float,\n",
    "life_exp int\n",
    ")\"\"\")\n"
   ]
  },
  {
   "cell_type": "code",
   "execution_count": 247,
   "id": "cf01a0f1-9906-45f5-b4e5-0002f4bd0611",
   "metadata": {},
   "outputs": [],
   "source": [
    "cur.execute(country_create_table)\n",
    "conn.commit()"
   ]
  },
  {
   "cell_type": "code",
   "execution_count": 248,
   "id": "6533134c-d14b-496e-a3a0-e79c759488e7",
   "metadata": {},
   "outputs": [],
   "source": [
    "accountcovid_create_table=(\"\"\"CREATE TABLE IF NOT EXISTS accountcovid(\n",
    "country_name VARCHAR ,\n",
    "P_id int,\n",
    "hospital VARCHAR,\n",
    "duration int,\n",
    "age int,\n",
    "vaccine VARCHAR\n",
    ")\"\"\")\n"
   ]
  },
  {
   "cell_type": "code",
   "execution_count": 249,
   "id": "22ea6ede-7e09-40bb-b3da-170120e8d375",
   "metadata": {},
   "outputs": [],
   "source": [
    "cur.execute(accountcovid_create_table)\n",
    "conn.commit()"
   ]
  },
  {
   "cell_type": "code",
   "execution_count": 250,
   "id": "b5ecd627-27be-49d9-a554-197c20bf4159",
   "metadata": {},
   "outputs": [],
   "source": [
    "accountpatient_create_table=(\"\"\"CREATE TABLE IF NOT EXISTS accountpatient(\n",
    "patient_name VARCHAR,\n",
    "p_id int,\n",
    "occupation VARCHAR,\n",
    "married VARCHAR,\n",
    "country VARCHAR,\n",
    "weight int\n",
    ")\"\"\")\n"
   ]
  },
  {
   "cell_type": "code",
   "execution_count": 251,
   "id": "6010db2b-69a5-4799-9221-534d76d1f81b",
   "metadata": {},
   "outputs": [],
   "source": [
    "cur.execute(accountpatient_create_table)\n",
    "conn.commit()"
   ]
  },
  {
   "cell_type": "code",
   "execution_count": 252,
   "id": "4e997191-7d70-449d-a3a7-fd055189cf23",
   "metadata": {},
   "outputs": [],
   "source": [
    "country_create_table_insert = (\"\"\"\n",
    "INSERT INTO accountcountry(\n",
    "    country_name,\n",
    "    disease,\n",
    "    population,\n",
    "    literacy_r,\n",
    "    life_exp)\n",
    "VALUES(%s, %s, %s, %s, %s)\n",
    "\"\"\")\n"
   ]
  },
  {
   "cell_type": "code",
   "execution_count": 253,
   "id": "759ae729-4df5-469c-abb7-7a02d0acbcac",
   "metadata": {},
   "outputs": [],
   "source": [
    "for i, row in accountcountry_clean.iterrows():\n",
    "    cur.execute(country_create_table_insert, tuple(row))\n"
   ]
  },
  {
   "cell_type": "code",
   "execution_count": 254,
   "id": "f16b6de8-50fa-4ff4-a81c-101a10cf611f",
   "metadata": {},
   "outputs": [],
   "source": [
    "covid_create_table_insert = (\"\"\"\n",
    "INSERT INTO accountcovid(\n",
    "    country_name,\n",
    "    p_id,\n",
    "    hospital,\n",
    "    duration,\n",
    "    age,\n",
    "    vaccine)\n",
    "VALUES(%s, %s, %s, %s, %s, %s)\n",
    "\"\"\")"
   ]
  },
  {
   "cell_type": "code",
   "execution_count": 256,
   "id": "3db91af8-a903-4fdb-bff5-b8c2c937faca",
   "metadata": {},
   "outputs": [],
   "source": [
    "for i, row in accountcovid.iterrows():\n",
    "    cur.execute(covid_create_table_insert, tuple(row))"
   ]
  },
  {
   "cell_type": "code",
   "execution_count": 257,
   "id": "987c126f-27ea-4ade-960f-df6cc94d35c6",
   "metadata": {},
   "outputs": [],
   "source": [
    "patient_create_table_insert = (\"\"\"\n",
    "INSERT INTO accountpatient(\n",
    "    patient_name,\n",
    "    p_id,\n",
    "    occupation,\n",
    "    married,\n",
    "    country,\n",
    "    weight)\n",
    "VALUES(%s, %s, %s, %s, %s, %s)\n",
    "\"\"\")"
   ]
  },
  {
   "cell_type": "code",
   "execution_count": 258,
   "id": "c598ef26-3e07-4a21-98dd-20ca0499a5ea",
   "metadata": {},
   "outputs": [],
   "source": [
    "for i, row in accountpatient.iterrows():\n",
    "    cur.execute(patient_create_table_insert, tuple(row))"
   ]
  },
  {
   "cell_type": "code",
   "execution_count": 259,
   "id": "8110953a-f51a-48ec-a84e-09ab48a437cf",
   "metadata": {},
   "outputs": [],
   "source": [
    "conn.commit()"
   ]
  },
  {
   "cell_type": "code",
   "execution_count": null,
   "id": "e06583cb-1bfa-4703-bc7c-d0b7e8c6de84",
   "metadata": {},
   "outputs": [],
   "source": []
  }
 ],
 "metadata": {
  "kernelspec": {
   "display_name": "Python 3 (ipykernel)",
   "language": "python",
   "name": "python3"
  },
  "language_info": {
   "codemirror_mode": {
    "name": "ipython",
    "version": 3
   },
   "file_extension": ".py",
   "mimetype": "text/x-python",
   "name": "python",
   "nbconvert_exporter": "python",
   "pygments_lexer": "ipython3",
   "version": "3.11.7"
  }
 },
 "nbformat": 4,
 "nbformat_minor": 5
}
